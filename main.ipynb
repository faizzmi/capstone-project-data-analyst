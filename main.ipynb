{
 "cells": [
  {
   "cell_type": "markdown",
   "id": "489746de",
   "metadata": {
    "id": "489746de"
   },
   "source": [
    "# mainmm\n",
    "- Faiz HIIIII, You may use this template to structure your Capstone Project in Jupyter Notebook.\n",
    "- Feel free to add or remove sections as needed based on your project scope.\n",
    "- You are encouraged to include code cells, Markdown explanations, charts, and summaries to clearly demonstrate your analytical thinking and process."
   ]
  },
  {
   "cell_type": "markdown",
   "id": "b4f8a9e3",
   "metadata": {
    "id": "b4f8a9e3"
   },
   "source": [
    "## 1️⃣ Project Title and Introduction:\n",
    "\n",
    "Give your project a meaningful title. Then briefly describe the context or background of your analysis."
   ]
  },
  {
   "cell_type": "markdown",
   "id": "c6686ad2",
   "metadata": {
    "id": "c6686ad2"
   },
   "source": [
    "## 2️⃣ Scoping Your Data Analysis Project\n",
    "\n",
    "- What are the big questions that you are exploring?\n",
    "- What are the datasets and data columns that you will be exploring?\n",
    "- What relationships between the data columns will you be exploring?"
   ]
  },
  {
   "cell_type": "markdown",
   "id": "9204a199",
   "metadata": {
    "id": "9204a199"
   },
   "source": [
    "## 3️⃣Data Preparation"
   ]
  },
  {
   "cell_type": "markdown",
   "id": "28d95403",
   "metadata": {
    "id": "28d95403"
   },
   "source": [
    "### Data Cleaning & Data Transformation:\n",
    "\n",
    "- Handle missing values in both datasets (e.g., missing prices, order dates, or last visit dates).\n",
    "\n",
    "\n"
   ]
  },
  {
   "cell_type": "code",
   "execution_count": null,
   "id": "bb7fd6fe",
   "metadata": {
    "id": "bb7fd6fe"
   },
   "outputs": [],
   "source": []
  },
  {
   "cell_type": "markdown",
   "id": "3c07c5fd",
   "metadata": {
    "id": "3c07c5fd"
   },
   "source": [
    "### Data Manipulation and Data Transformation:\n",
    "- Ensure data types and formatting are consistent.\n",
    "- Create new columns that are helpful for data analysis\n",
    "\n"
   ]
  },
  {
   "cell_type": "code",
   "execution_count": null,
   "id": "c6ff5fde",
   "metadata": {
    "id": "c6ff5fde"
   },
   "outputs": [],
   "source": []
  },
  {
   "cell_type": "markdown",
   "id": "4c832195",
   "metadata": {
    "id": "4c832195"
   },
   "source": [
    "### Data Joining:\n",
    "\n",
    "- Join the datasets using a unique identifier.\n",
    "- Perform groupby to uncover relationships between variables.\n"
   ]
  },
  {
   "cell_type": "code",
   "execution_count": null,
   "id": "a1b3bd19",
   "metadata": {
    "id": "a1b3bd19"
   },
   "outputs": [],
   "source": []
  },
  {
   "cell_type": "markdown",
   "id": "0400e116",
   "metadata": {
    "id": "0400e116"
   },
   "source": [
    "## 4️⃣ Exploratory Data Analysis\n",
    "\n",
    "1.   List item\n",
    "2.   List item\n",
    "\n"
   ]
  },
  {
   "cell_type": "markdown",
   "id": "bf9138c5",
   "metadata": {
    "id": "bf9138c5"
   },
   "source": [
    "### Descriptive Analysis:\n",
    "\n",
    "- Explore overall descriptive analysis.\n",
    "- Filter subsets to answer big questions."
   ]
  },
  {
   "cell_type": "code",
   "execution_count": null,
   "id": "df245a97",
   "metadata": {
    "id": "df245a97"
   },
   "outputs": [],
   "source": []
  },
  {
   "cell_type": "markdown",
   "id": "597352be",
   "metadata": {
    "id": "597352be"
   },
   "source": [
    "### Data Visualisation:\n",
    "- Visualise data in graphs to better understand the data."
   ]
  },
  {
   "cell_type": "code",
   "source": [],
   "metadata": {
    "id": "BebIoEmVSbXQ"
   },
   "id": "BebIoEmVSbXQ",
   "execution_count": null,
   "outputs": []
  },
  {
   "cell_type": "markdown",
   "id": "1d9d6acc",
   "metadata": {
    "id": "1d9d6acc"
   },
   "source": [
    "\n",
    "\n",
    "```\n",
    "# This is formatted as code\n",
    "```\n",
    "\n",
    "## 5️⃣ Data Insights"
   ]
  },
  {
   "cell_type": "markdown",
   "id": "2b8338ee",
   "metadata": {
    "id": "2b8338ee"
   },
   "source": [
    "- Summarize your main takeaways. What patterns or trends did you find?"
   ]
  },
  {
   "cell_type": "code",
   "execution_count": null,
   "id": "66b1859a",
   "metadata": {
    "id": "66b1859a"
   },
   "outputs": [],
   "source": []
  }
 ],
 "metadata": {
  "kernelspec": {
   "display_name": "Python 3 (ipykernel)",
   "language": "python",
   "name": "python3"
  },
  "language_info": {
   "codemirror_mode": {
    "name": "ipython",
    "version": 3
   },
   "file_extension": ".py",
   "mimetype": "text/x-python",
   "name": "python",
   "nbconvert_exporter": "python",
   "pygments_lexer": "ipython3",
   "version": "3.9.13"
  },
  "colab": {
   "provenance": []
  }
 },
 "nbformat": 4,
 "nbformat_minor": 5
}
